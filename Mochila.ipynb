{
 "cells": [
  {
   "cell_type": "code",
   "execution_count": 3,
   "id": "bff520a7",
   "metadata": {},
   "outputs": [
    {
     "name": "stderr",
     "output_type": "stream",
     "text": [
      "2022-11-05 11:52:13.104324: W tensorflow/stream_executor/platform/default/dso_loader.cc:64] Could not load dynamic library 'libcudart.so.11.0'; dlerror: libcudart.so.11.0: cannot open shared object file: No such file or directory\n",
      "2022-11-05 11:52:13.104398: I tensorflow/stream_executor/cuda/cudart_stub.cc:29] Ignore above cudart dlerror if you do not have a GPU set up on your machine.\n"
     ]
    }
   ],
   "source": [
    "import tensorflow as tf\n",
    "import numpy as np\n",
    "import matplotlib.pyplot as plt"
   ]
  },
  {
   "cell_type": "markdown",
   "id": "eb8ffed8",
   "metadata": {},
   "source": [
    "# Mochila\n",
    "\n",
    "Esse notebook tem como objetivo solucionar o problema da mochila, na qual têm como objetivo maximizar o beneficio(v) sem ultrapassar o peso da mochila(cap), cada beneficio tem seu peso(w)."
   ]
  },
  {
   "cell_type": "code",
   "execution_count": 4,
   "id": "aab06384",
   "metadata": {},
   "outputs": [],
   "source": [
    "class Bag:\n",
    "    \n",
    "    def __init__(self, cap, weight, value, qtdSolution):\n",
    "        self.weight = np.array(weight)\n",
    "        self.value = np.array(value)\n",
    "        self.cap = cap\n",
    "        \n",
    "        self.size = np.array(weight).shape[0]\n",
    "        self.qtdSolution = qtdSolution\n",
    "        \n",
    "        self.solutions = np.zeros((qtdSolution, self.size))\n",
    "        \n",
    "        for i in range(qtdSolution):\n",
    "            for j in range(self.size):\n",
    "                self.solutions[i][j] = np.random.randint(0,2)\n",
    "        \n",
    "        \n",
    "        \n",
    "    def getRo(self):\n",
    "        return np.array(self.weight/self.value).max()\n",
    "    \n",
    "    def penalizacao(self, x):\n",
    "        aux = np.sum(x*self.weight)\n",
    "        aux = aux - cap\n",
    "        \n",
    "        \n",
    "        return self.getRo()*aux\n",
    "    \n",
    "    def fitness(self, x):\n",
    "        \n",
    "        aux = np.sum(self.value*x)\n",
    "        \n",
    "        if(aux > cap):\n",
    "            aux = aux - self.penalizacao(x)\n",
    "            \n",
    "        return aux\n",
    "    \n",
    "    \n",
    "    def crossover(self, father, mother):\n",
    "        father = np.array(father)\n",
    "        mother = np.array(mother)\n",
    "        size = father.shape[0]\n",
    "        \n",
    "        children = np.zeros((2, size))\n",
    "        for i in range(size):\n",
    "            \n",
    "            if(np.random.randint(0,2) == 0):\n",
    "                children[0][i] = father[i]\n",
    "                children[1][i] = mother[i]\n",
    "            else:\n",
    "                children[1][i] = father[i]\n",
    "                children[0][i] = mother[i]\n",
    "                \n",
    "        \n",
    "        return children\n",
    "    \n",
    "    \n",
    "    \n",
    "    def mutation(self, x, prob):\n",
    "        x = np.array(x)\n",
    "        \n",
    "        size = x.shape[0]\n",
    "        \n",
    "        for i in range(size):\n",
    "            random = np.random.random()\n",
    "            \n",
    "            if (random > prob):\n",
    "                x[i] = int(not(x[i]))\n",
    "                \n",
    "        return x\n",
    "    \n",
    "    def getMeanFitness(self):\n",
    "        mean = 0\n",
    "        for i in self.solutions:\n",
    "            mean = mean + self.fitness(i)\n",
    "            \n",
    "        mean/(self.qtdSolution)\n",
    "        return mean\n",
    "    \n",
    "    def getMeanCapacidadeMochila(self):\n",
    "        mean = 0\n",
    "        \n",
    "        for i in self.solutions:\n",
    "            mean = mean + np.sum(self.value * i)\n",
    "            \n",
    "        mean = mean/(self.qtdSolution)\n",
    "        return mean \n",
    "    \n",
    "    def getMeanWeight(self):\n",
    "        mean = 0\n",
    "        \n",
    "        for i in self.solutions:\n",
    "            mean = mean + np.sum(self.weight * i)\n",
    "            \n",
    "        mean = mean/(self.qtdSolution)\n",
    "        return mean \n",
    "    \n",
    "    def getWeight(self, x):\n",
    "        return np.sum(self.weight * x)\n",
    "    \n",
    "    def getCapacidade(self, x):\n",
    "        return np.sum(self.value * x)\n",
    "    \n",
    "    \n",
    "    def selectBest(self, father, mother, childrens, pos1,pos2):\n",
    "        result = np.zeros((2,mother.shape[0]))\n",
    "\n",
    "        \n",
    "        aux = np.array([father, mother, childrens[0], childrens[1]])\n",
    "        fitness= np.array(list(map(self.fitness,aux)))\n",
    "        fitness =  np.argsort(fitness)[::-1][:4]\n",
    "    \n",
    "\n",
    "        for i in range(4):\n",
    "            if self.getWeight(aux[fitness[i]]) <= self.cap:\n",
    "                self.solutions[pos1] = aux[fitness[i]]\n",
    "\n",
    "                fitness = np.delete(fitness,i)\n",
    "                break\n",
    "\n",
    "        for i in range(3):\n",
    "            if self.getWeight(aux[fitness[i]]) <= self.cap:\n",
    "                self.solutions[pos2] = aux[fitness[i]]\n",
    "                break\n",
    "            \n",
    "            \n",
    "      \n",
    "                \n",
    "                \n",
    "    def getParents(self, paisSelecionado):\n",
    "        aux1 = -1\n",
    "        aux2 = -1\n",
    "        var1 = 0\n",
    "        while (aux1 == aux2 and aux1 == -1 and aux2 == -1 and var1 == 0):\n",
    "            aux1 = np.random.randint(0, self.qtdSolution )\n",
    "            aux2 = np.random.randint(0, self.qtdSolution)\n",
    "            \n",
    "            if(paisSelecionado[aux1]== paisSelecionado[aux2] == 0):\n",
    "                var1 = 1\n",
    "                paisSelecionado[aux1] = 1\n",
    "                paisSelecionado[aux2] = 1\n",
    "        \n",
    "        return self.solutions[aux1], self.solutions[aux2],aux1, aux2, paisSelecionado\n",
    "    \n",
    "    def geneticAlgorithm(self,qtd):\n",
    "      \n",
    "        i = 0\n",
    "        half = int(self.solutions.shape[0]/2)\n",
    "        vetorFitness = np.zeros(qtd)\n",
    "        vetorCapMochila = np.zeros(qtd)\n",
    "        vetorWeight = np.zeros(qtd)\n",
    "        while(i < qtd):\n",
    "            j = 0\n",
    "            paisSelecionado = np.zeros(self.qtdSolution)\n",
    "            for j in range(self.size):\n",
    "                \n",
    "                \n",
    "                father, mother,pos1,pos2,paisSelecionado = self.getParents(paisSelecionado)\n",
    "                \n",
    "                children = self.crossover(father=father, mother=mother)\n",
    "                \n",
    "                prob = np.random.random()\n",
    "                children[0] = self.mutation(children[0],prob)\n",
    "                children[1] = self.mutation(children[1],prob)\n",
    "                \n",
    "                self.selectBest(father, mother, children,pos1,pos2)\n",
    "                  \n",
    "            vetorFitness[i] = self.getMeanFitness() \n",
    "            vetorCapMochila[i] = self.getMeanCapacidadeMochila() \n",
    "            vetorWeight[i] = self.getMeanWeight()\n",
    "            \n",
    "            \n",
    "            i = i + 1\n",
    "            \n",
    "        return vetorFitness,vetorCapMochila,vetorWeight\n",
    "        \n",
    "    "
   ]
  },
  {
   "cell_type": "code",
   "execution_count": 5,
   "id": "66a0e2b3",
   "metadata": {},
   "outputs": [],
   "source": [
    "cap = 35\n",
    "qtdSolution = 50\n",
    "weight = np.array([10,18,12,14,13,11,8,6])\n",
    "ben = np.array([5,8,7,6,9,5,4,3])\n",
    "\n",
    "v = Bag(cap, weight,ben, qtdSolution)\n",
    "\n",
    "vetorFitness, vetorCap, vetorPeso = v.geneticAlgorithm(300)\n"
   ]
  },
  {
   "cell_type": "code",
   "execution_count": 6,
   "id": "cc21c2c7",
   "metadata": {},
   "outputs": [
    {
     "data": {
      "text/plain": [
       "Text(0.5, 1.0, 'Função de aptidão')"
      ]
     },
     "execution_count": 6,
     "metadata": {},
     "output_type": "execute_result"
    },
    {
     "data": {
      "image/png": "[encoded data removed]",
      "text/plain": [
       "<Figure size 1440x720 with 3 Axes>"
      ]
     },
     "metadata": {
      "needs_background": "light"
     },
     "output_type": "display_data"
    }
   ],
   "source": [
    "fig, axs = plt.subplots(3,1, sharex=True,figsize=(20, 10))\n",
    "axs[0].plot(vetorCap)\n",
    "axs[0].set_title('Capacidade da mochila')\n",
    "axs[1].plot(vetorPeso, 'tab:orange')\n",
    "axs[1].set_title('Peso da mochila')\n",
    "axs[2].plot(vetorPeso, 'tab:orange')\n",
    "axs[2].set_title('Função de aptidão')"
   ]
  },
  {
   "cell_type": "code",
   "execution_count": 7,
   "id": "9a102ff4",
   "metadata": {},
   "outputs": [
    {
     "data": {
      "text/plain": [
       "array([21., 21., 21., 21., 21., 21., 21., 21., 21., 20., 21., 21., 21.,\n",
       "       21., 21., 20., 21., 19., 21., 21., 18., 21., 21., 21., 21., 21.,\n",
       "       21., 20., 20., 21., 21., 21., 21., 21., 21., 21., 21., 21., 21.,\n",
       "       21., 20., 19., 21., 21., 21., 21., 21., 21., 21., 21.])"
      ]
     },
     "execution_count": 7,
     "metadata": {},
     "output_type": "execute_result"
    }
   ],
   "source": [
    "np.array(list(map(v.getCapacidade, v.solutions)))"
   ]
  },
  {
   "cell_type": "code",
   "execution_count": 8,
   "id": "e73fdf5f",
   "metadata": {},
   "outputs": [],
   "source": [
    "arg = int(np.array(list(map(v.getCapacidade, v.solutions))).argmax())"
   ]
  },
  {
   "cell_type": "code",
   "execution_count": 9,
   "id": "cdd5525c",
   "metadata": {},
   "outputs": [
    {
     "data": {
      "text/plain": [
       "0"
      ]
     },
     "execution_count": 9,
     "metadata": {},
     "output_type": "execute_result"
    }
   ],
   "source": [
    "arg"
   ]
  },
  {
   "cell_type": "code",
   "execution_count": 10,
   "id": "f4d9528b",
   "metadata": {},
   "outputs": [
    {
     "data": {
      "text/plain": [
       "array([5., 0., 7., 0., 9., 0., 0., 0.])"
      ]
     },
     "execution_count": 10,
     "metadata": {},
     "output_type": "execute_result"
    }
   ],
   "source": [
    "v.solutions[arg]*ben"
   ]
  },
  {
   "cell_type": "code",
   "execution_count": 11,
   "id": "d467ea2b",
   "metadata": {},
   "outputs": [
    {
     "data": {
      "text/plain": [
       "21.0"
      ]
     },
     "execution_count": 11,
     "metadata": {},
     "output_type": "execute_result"
    }
   ],
   "source": [
    "np.sum(v.solutions[arg]*ben)"
   ]
  },
  {
   "cell_type": "code",
   "execution_count": 12,
   "id": "19cef816",
   "metadata": {},
   "outputs": [
    {
     "data": {
      "text/plain": [
       "array([10.,  0., 12.,  0., 13.,  0.,  0.,  0.])"
      ]
     },
     "execution_count": 12,
     "metadata": {},
     "output_type": "execute_result"
    }
   ],
   "source": [
    "v.solutions[arg]*weight"
   ]
  },
  {
   "cell_type": "code",
   "execution_count": 13,
   "id": "a7697ed6",
   "metadata": {},
   "outputs": [
    {
     "data": {
      "text/plain": [
       "35.0"
      ]
     },
     "execution_count": 13,
     "metadata": {},
     "output_type": "execute_result"
    }
   ],
   "source": [
    "np.sum(v.solutions[arg]*weight)"
   ]
  },
  {
   "cell_type": "markdown",
   "id": "730b1bbc",
   "metadata": {},
   "source": [
    "### Foi possível observar que o algoritmo conseguiu maximar a capacidade da mochila sem ultrapassar o limite maximo de peso mochila que seria 35 kg. Nesse sentido, houve no inicio uma queda da capacidade para que o maximo de peso fosse menor que 35 kg. Isso se deve ao fato que o fator de penalização era muito alto. Após isso cumprido, foi maximizando a capacidade sem ultrapassar o peso maximo. \n",
    "\n",
    "### Assim, foi escolhido os objetos 1,3 e o 5."
   ]
  }
 ],
 "metadata": {
  "kernelspec": {
   "display_name": "Python 3 (ipykernel)",
   "language": "python",
   "name": "python3"
  },
  "language_info": {
   "codemirror_mode": {
    "name": "ipython",
    "version": 3
   },
   "file_extension": ".py",
   "mimetype": "text/x-python",
   "name": "python",
   "nbconvert_exporter": "python",
   "pygments_lexer": "ipython3",
   "version": "3.8.8"
  }
 },
 "nbformat": 4,
 "nbformat_minor": 5
}
